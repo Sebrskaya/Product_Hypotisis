{
 "cells": [
  {
   "cell_type": "markdown",
   "metadata": {},
   "source": [
    "# Разведочный анализ данных по мошенничеству в транзакциях\n",
    "\n",
    "В этом ноутбуке проводится разведочный анализ данных о транзакциях для выявления потенциальных паттернов мошенничества и формулирования гипотез, которые могут быть полезны для системы фрод-мониторинга.\n"
   ]
  },
  {
   "cell_type": "code",
   "execution_count": null,
   "metadata": {},
   "outputs": [
    {
     "ename": "",
     "evalue": "",
     "output_type": "error",
     "traceback": [
      "\u001b[1;31mRunning cells with 'Python 3.10.11' requires the ipykernel package.\n",
      "\u001b[1;31m<a href='command:jupyter.createPythonEnvAndSelectController'>Create a Python Environment</a> with the required packages.\n",
      "\u001b[1;31mOr install 'ipykernel' using the command: 'c:/Users/egori/AppData/Local/Programs/Python/Python310/python.exe -m pip install ipykernel -U --user --force-reinstall'"
     ]
    }
   ],
   "source": [
    "import pandas as pd\n",
    "import matplotlib.pyplot as plt\n",
    "import seaborn as sns\n",
    "from scipy.stats import chi2_contingency\n",
    "\n",
    "pd.set_option('display.max_columns', None)"
   ]
  },
  {
   "cell_type": "code",
   "execution_count": null,
   "metadata": {},
   "outputs": [],
   "source": [
    "transactions_data = pd.read_parquet('transaction_fraud_data.parquet')\n",
    "exchange_rates_data = pd.read_parquet('historical_currency_exchange.parquet')"
   ]
  },
  {
   "cell_type": "markdown",
   "metadata": {},
   "source": [
    "## Первичный осмотр данных\n",
    "\n",
    "Посмотрим на структуру и основные характеристики загруженных данных."
   ]
  },
  {
   "cell_type": "code",
   "execution_count": null,
   "metadata": {},
   "outputs": [],
   "source": [
    "print(\"Пример данных о транзакциях:\")\n",
    "display(transactions_data.head())\n",
    "print(\"\\nИнформация о структуре данных транзакций:\")\n",
    "transactions_data.info()\n",
    "print(\"\\nОписательная статистика по транзакциям:\")\n",
    "display(transactions_data.describe())\n",
    "print(\"\\nПропущенные значения в транзакциях:\")\n",
    "display(transactions_data.isna().sum())"
   ]
  },
  {
   "cell_type": "code",
   "execution_count": null,
   "metadata": {},
   "outputs": [],
   "source": [
    "print(\"Пример данных о курсах валют:\")\n",
    "display(exchange_rates_data.head())\n",
    "print(\"\\nИнформация о структуре данных курсов валют:\")\n",
    "exchange_rates_data.info()\n",
    "print(\"\\nОписательная статистика по курсам валют:\")\n",
    "display(exchange_rates_data.describe())\n",
    "print(\"\\nПропущенные значения в курсах валют:\")\n",
    "display(exchange_rates_data.isna().sum())"
   ]
  },
  {
   "cell_type": "markdown",
   "metadata": {},
   "source": [
    "## Распределение транзакций по категориям вендоров\n",
    "\n",
    "Визуализируем распределение легитимных и мошеннических транзакций по категориям вендоров."
   ]
  },
  {
   "cell_type": "code",
   "execution_count": null,
   "metadata": {},
   "outputs": [],
   "source": [
    "def create_donut_chart(data_series, chart_title):\n",
    "    plt.figure(figsize=(8, 6))\n",
    "    colors = sns.color_palette(\"pastel\")[0:len(data_series)]\n",
    "    \n",
    "    wedges, texts, autotexts = plt.pie(\n",
    "        data_series.values,\n",
    "        labels=data_series.index,\n",
    "        autopct=lambda pct: f'{pct:.1f}%' if pct > 1 else '',\n",
    "        startangle=140,\n",
    "        colors=colors,\n",
    "        pctdistance=0.85,\n",
    "        wedgeprops=dict(width=0.3)\n",
    "    )\n",
    "\n",
    "    centre_circle = plt.Circle((0,0),0.70,fc='white')\n",
    "    fig = plt.gcf()\n",
    "    fig.gca().add_artist(centre_circle)\n",
    "    \n",
    "    for autotext in autotexts:\n",
    "        autotext.set_color('black')\n",
    "        autotext.set_fontsize(9)\n",
    "\n",
    "    plt.title(chart_title, fontsize=14, pad=20)\n",
    "    plt.axis('equal')\n",
    "    plt.tight_layout()\n",
    "    plt.show()"
   ]
  },
  {
   "cell_type": "code",
   "execution_count": null,
   "metadata": {},
   "outputs": [],
   "source": [
    "legit_vendor_counts = transactions_data['vendor_category'][transactions_data['is_fraud']==False].value_counts()\n",
    "print(\"Распределение легитимных транзакций по категориям вендоров:\")\n",
    "display(legit_vendor_counts)\n",
    "create_donut_chart(legit_vendor_counts, 'Распределение легитимных транзакций по категориям вендоров')"
   ]
  },
  {
   "cell_type": "code",
   "execution_count": null,
   "metadata": {},
   "outputs": [],
   "source": [
    "fraud_vendor_counts = transactions_data['vendor_category'][transactions_data['is_fraud']==True].value_counts()\n",
    "print(\"Распределение мошеннических транзакций по категориям вендоров:\")\n",
    "display(fraud_vendor_counts)\n",
    "create_donut_chart(fraud_vendor_counts, 'Распределение мошеннических транзакций по категориям вендоров')"
   ]
  },
  {
   "cell_type": "markdown",
   "metadata": {},
   "source": [
    "## Гипотеза 1: Активность клиента и мошенничество\n",
    "\n",
    "**Гипотеза:** Уровень активности клиента (количество транзакций) связан с вероятностью совершения мошеннической транзакции. Клиенты с очень низкой или очень высокой активностью могут быть более подвержены риску.\n",
    "\n",
    "**Ценность:** Позволяет сегментировать клиентов по риску на основе их поведения. Это может быть использовано для адаптации уровня контроля и проверок: более активные клиенты могут требовать усиленного мониторинга, а клиенты с аномальной активностью могут быть временно заблокированы или подвергнуты дополнительной аутентификации."
   ]
  },
  {
   "cell_type": "code",
   "execution_count": null,
   "metadata": {},
   "outputs": [],
   "source": [
    "customer_activity = transactions_data.groupby('customer_id').agg(\n",
    "    total_transactions=('transaction_id', 'count'),\n",
    "    fraud_cases=('is_fraud', 'sum')\n",
    ").reset_index()\n",
    "\n",
    "customer_activity['is_fraudster'] = customer_activity['fraud_cases'] > 0\n",
    "customer_activity['activity_level'] = pd.cut(customer_activity['total_transactions'], \n",
    "                                             bins=[0, 5, 20, 50, float('inf')], \n",
    "                                             labels=['Низкая (1-5)', 'Средняя (6-20)', 'Высокая (21-50)', 'Очень высокая (50+)'])\n",
    "\n",
    "fraud_by_activity = customer_activity.groupby('activity_level').agg(\n",
    "    total_customers=('customer_id', 'count'),\n",
    "    fraudsters=('is_fraudster', 'sum')\n",
    ").reset_index()\n",
    "\n",
    "fraud_by_activity['fraud_rate'] = fraud_by_activity['fraudsters'] / fraud_by_activity['total_customers']\n",
    "display(fraud_by_activity)"
   ]
  },
  {
   "cell_type": "code",
   "execution_count": null,
   "metadata": {},
   "outputs": [],
   "source": [
    "plt.figure(figsize=(6, 4))\n",
    "sns.barplot(data=fraud_by_activity, x='activity_level', y='fraud_rate', palette='viridis')\n",
    "plt.title('Доля мошенников по уровню активности клиентов')\n",
    "plt.xlabel('Уровень активности')\n",
    "plt.ylabel('Доля мошенников')\n",
    "plt.xticks(rotation=45, ha='right')\n",
    "plt.grid(axis='y', alpha=0.7)\n",
    "plt.tight_layout()\n",
    "plt.show()"
   ]
  },
  {
   "cell_type": "markdown",
   "metadata": {},
   "source": [
    "## Гипотеза 2: Время суток и мошенничество\n",
    "\n",
    "**Гипотеза:** Мошеннические транзакции чаще происходят в определенные часы суток, возможно, когда клиенты менее бдительны или система мониторинга менее активна.\n",
    "\n",
    "**Ценность:** Позволяет оптимизировать распределение ресурсов системы фрод-мониторинга. В часы пиковой активности мошенников можно усиливать автоматические проверки и уведомлять операторов о повышенной нагрузке."
   ]
  },
  {
   "cell_type": "code",
   "execution_count": null,
   "metadata": {},
   "outputs": [],
   "source": [
    "transactions_data['hour'] = pd.to_datetime(transactions_data['timestamp']).dt.hour\n",
    "\n",
    "fraud_by_hour = transactions_data.groupby('hour').agg(\n",
    "    total_transactions=('transaction_id', 'count'),\n",
    "    fraud_cases=('is_fraud', 'sum')\n",
    ").reset_index()\n",
    "\n",
    "fraud_by_hour['fraud_rate'] = fraud_by_hour['fraud_cases'] / fraud_by_hour['total_transactions']\n",
    "display(fraud_by_hour.nlargest(5, 'fraud_rate'))"
   ]
  },
  {
   "cell_type": "code",
   "execution_count": null,
   "metadata": {},
   "outputs": [],
   "source": [
    "plt.figure(figsize=(10, 4))\n",
    "sns.lineplot(data=fraud_by_hour, x='hour', y='fraud_rate', marker='o', color='red')\n",
    "plt.title('Доля мошенничества по часам суток')\n",
    "plt.xlabel('Час суток')\n",
    "plt.ylabel('Доля мошенничества')\n",
    "plt.grid(True, alpha=0.7)\n",
    "plt.xticks(range(0, 24))\n",
    "plt.tight_layout()\n",
    "plt.show()"
   ]
  },
  {
   "cell_type": "markdown",
   "metadata": {},
   "source": [
    "## Гипотеза 3: Интенсивность использования device_fingerprint\n",
    "\n",
    "**Гипотеза:** Устройства, с которых совершается аномально большое количество транзакций (независимо от количества пользователей), имеют повышенный риск быть скомпрометированными или использоваться ботами.\n",
    "\n",
    "**Ценность:** Позволяет выявлять устройства с подозрительной активностью. Такие устройства могут быть добавлены в список наблюдения или временно заблокированы для предотвращения дальнейших потенциально мошеннических действий."
   ]
  },
  {
   "cell_type": "code",
   "execution_count": null,
   "metadata": {},
   "outputs": [],
   "source": [
    "device_analysis = transactions_data.groupby('device_fingerprint').agg(\n",
    "    unique_customers=('customer_id', 'nunique'),\n",
    "    total_transactions=('transaction_id', 'count'),\n",
    "    fraud_cases=('is_fraud', 'sum')\n",
    ").reset_index()\n",
    "\n",
    "device_analysis['fraud_ratio'] = device_analysis['fraud_cases'] / device_analysis['total_transactions']\n",
    "device_analysis['transactions_per_user'] = device_analysis['total_transactions'] / device_analysis['unique_customers']\n",
    "\n",
    "# Фильтруем устройства с высокой активностью (например, более 50 транзакций)\n",
    "high_activity_devices = device_analysis[device_analysis['total_transactions'] > 50]\n",
    "high_activity_devices_sorted = high_activity_devices.sort_values(by='fraud_ratio', ascending=False)\n",
    "display(high_activity_devices_sorted.head(10))"
   ]
  },
  {
   "cell_type": "markdown",
   "metadata": {},
   "source": [
    "## Гипотеза 4: Нагрузка на IP-адрес\n",
    "\n",
    "**Гипотеза:** IP-адреса, с которых инициируется большое количество транзакций, могут указывать на прокси-сервера, ботнеты или просто на общие точки доступа с высокой нагрузкой, требующие дополнительного внимания.\n",
    "\n",
    "**Ценность:** Помогает идентифицировать IP-адреса с аномальной активностью. Это может быть полезно для создания динамических черных списков или для применения дополнительных правил проверки для транзакций с таких IP."
   ]
  },
  {
   "cell_type": "code",
   "execution_count": null,
   "metadata": {},
   "outputs": [],
   "source": [
    "ip_analysis = transactions_data.groupby('ip_address').agg(\n",
    "    unique_customers=('customer_id', 'nunique'),\n",
    "    total_transactions=('transaction_id', 'count'),\n",
    "    fraud_cases=('is_fraud', 'sum')\n",
    ").reset_index()\n",
    "\n",
    "ip_analysis['fraud_ratio'] = ip_analysis['fraud_cases'] / ip_analysis['total_transactions']\n",
    "# Фильтруем IP с высокой нагрузкой (например, более 100 транзакций)\n",
    "high_load_ips = ip_analysis[ip_analysis['total_transactions'] > 100]\n",
    "high_load_ips_sorted = high_load_ips.sort_values(by='fraud_ratio', ascending=False)\n",
    "display(high_load_ips_sorted.head(10))"
   ]
  },
  {
   "cell_type": "markdown",
   "metadata": {},
   "source": [
    "## Гипотеза 5: Категория вендора и мошенничество\n",
    "\n",
    "**Гипотеза:** Некоторые категории вендоров (мерчантов) имеют статистически более высокий уровень мошенничества по сравнению с другими. Это может быть связано с типом товаров/услуг, политикой безопасности мерчанта или спецификой аудитории.\n",
    "\n",
    "**Ценность:** Позволяет сегментировать риски по категориям мерчантов. Для категорий с высоким риском можно вводить дополнительные проверки транзакций, более строгие лимиты или даже временно приостанавливать возможность оплаты до ручной проверки."
   ]
  },
  {
   "cell_type": "code",
   "execution_count": null,
   "metadata": {},
   "outputs": [],
   "source": [
    "fraud_by_vendor = transactions_data.groupby('vendor_category').agg(\n",
    "    total_transactions=('transaction_id', 'count'),\n",
    "    fraud_cases=('is_fraud', 'sum')\n",
    ").reset_index()\n",
    "\n",
    "fraud_by_vendor['fraud_percentage'] = (fraud_by_vendor['fraud_cases'] / fraud_by_vendor['total_transactions']) * 100\n",
    "fraud_by_vendor = fraud_by_vendor.sort_values('fraud_percentage', ascending=False)\n",
    "display(fraud_by_vendor)"
   ]
  },
  {
   "cell_type": "code",
   "execution_count": null,
   "metadata": {},
   "outputs": [],
   "source": [
    "# Хи-квадрат тест\n",
    "contingency_vendor_tbl = pd.crosstab(transactions_data['vendor_category'], transactions_data['is_fraud'])\n",
    "chi2_v_stat, p_v_val, dof_v, expected_v = chi2_contingency(contingency_vendor_tbl)\n",
    "\n",
    "alpha_level = 0.05\n",
    "print(f\"Результаты Хи-квадрат теста для vendor_category и is_fraud:\")\n",
    "print(f\"p-value: {p_v_val:.4f}\")\n",
    "if p_v_val > alpha_level:\n",
    "    print(\"Нет статистически значимой связи между категорией вендора и мошенничеством.\")\n",
    "else:\n",
    "    print(\"Существует статистически значимая связь между категорией вендора и мошенничеством.\")"
   ]
  },
  {
   "cell_type": "markdown",
   "metadata": {},
   "source": [
    "## Гипотеза 6: Географический паттерн мошенничества\n",
    "\n",
    "**Гипотеза:** Транзакции, совершенные за пределами страны клиента, имеют значительно более высокий уровень мошенничества по сравнению с транзакциями внутри страны.\n",
    "\n",
    "**Ценность:** Это подтверждение позволяет внедрить усиленную аутентификацию (например, 2FA, SMS-подтверждение) для всех международных транзакций, тем самым снижая риски и повышая безопасность клиентов при поездках или онлайн-покупках за рубежом."
   ]
  },
  {
   "cell_type": "code",
   "execution_count": null,
   "metadata": {},
   "outputs": [],
   "source": [
    "fraud_by_geo = transactions_data.groupby('is_outside_home_country').agg(\n",
    "    total=('transaction_id', 'count'),\n",
    "    fraud_count=('is_fraud', 'sum')\n",
    ").reset_index()\n",
    "\n",
    "fraud_by_geo['fraud_percentage'] = (fraud_by_geo['fraud_count'] / fraud_by_geo['total']) * 100\n",
    "display(fraud_by_geo)"
   ]
  },
  {
   "cell_type": "code",
   "execution_count": null,
   "metadata": {},
   "outputs": [],
   "source": [
    "geo_plot_data = fraud_by_geo.copy()\n",
    "geo_plot_data['location'] = geo_plot_data['is_outside_home_country'].map({True: 'Вне страны', False: 'Внутри страны'})\n",
    "\n",
    "plt.figure(figsize=(6, 4))\n",
    "sns.barplot(data=geo_plot_data, x='location', y='fraud_percentage', palette='viridis')\n",
    "plt.title('Процент мошеннических транзакций в зависимости от местоположения')\n",
    "plt.xlabel('Местоположение транзакции')\n",
    "plt.ylabel('Процент мошенничества (%)')\n",
    "plt.ylim(0, max(geo_plot_data['fraud_percentage']) * 1.1)\n",
    "plt.grid(axis='y', alpha=0.7)\n",
    "plt.tight_layout()\n",
    "plt.show()"
   ]
  },
  {
   "cell_type": "markdown",
   "metadata": {},
   "source": [
    "## Heatmap: Домашняя страна клиента vs. Страна транзакции\n",
    "\n",
    "Визуализация пар \"домашняя страна клиента - страна транзакции\" для мошеннических операций помогает выявить наиболее подозрительные маршруты. Это может указывать на организованные схемы мошенничества из определенных регионов.\n",
    "\n",
    "**Ценность:** Позволяет выявлять пары стран с высоким уровнем мошеннической активности. Это может быть использовано для усиления контроля на границе этих стран (например, дополнительная проверка для клиентов из страны A, совершающих покупки в стране B) или даже для временного ограничения таких транзакций при высоком уровне риска."
   ]
  },
  {
   "cell_type": "code",
   "execution_count": null,
   "metadata": {},
   "outputs": [],
   "source": [
    "# Определяем \"домашнюю\" страну клиента как самую частую страну его транзакций\n",
    "home_nation = (\n",
    "    transactions_data.groupby(\"customer_id\")[\"country\"]\n",
    "    .agg(lambda x: x.mode().iloc[0] if not x.mode().empty else x.iloc[0])\n",
    "    .reset_index()\n",
    "    .rename(columns={\"country\": \"home_country\"})\n",
    ")\n",
    "\n",
    "# Объединяем с данными о мошенничестве\n",
    "fraud_transactions = transactions_data[transactions_data[\"is_fraud\"] == True]\n",
    "fraud_with_home = fraud_transactions.merge(home_nation, on=\"customer_id\", how=\"left\")\n",
    "\n",
    "# Создаем сводную таблицу\n",
    "geo_pivot = (\n",
    "    fraud_with_home.groupby([\"home_country\", \"country\"])\n",
    "    .size()\n",
    "    .reset_index(name=\"fraud_incidents\")\n",
    ")\n",
    "\n",
    "geo_matrix = geo_pivot.pivot(index=\"home_country\", columns=\"country\", values=\"fraud_incidents\").fillna(0)\n",
    "\n",
    "# Визуализация heatmap\n",
    "plt.figure(figsize=(12, 10))\n",
    "sns.heatmap(geo_matrix, annot=False, fmt=\"g\", cmap=\"YlOrRd\", linewidths=0.3, linecolor='gray')\n",
    "plt.title(\"Heatmap: Домашняя страна клиента vs. Страна транзакции (Только мошенничество)\", fontsize=12)\n",
    "plt.xlabel(\"Страна транзакции\")\n",
    "plt.ylabel(\"Домашняя страна клиента\")\n",
    "plt.xticks(rotation=45, ha='right')\n",
    "plt.yticks(rotation=0)\n",
    "plt.tight_layout()\n",
    "plt.show()"
   ]
  }
 ],
 "metadata": {
  "kernelspec": {
   "display_name": "Python (my_env_padim)",
   "language": "python",
   "name": "my_env_padim"
  },
  "language_info": {
   "codemirror_mode": {
    "name": "ipython",
    "version": 3
   },
   "file_extension": ".py",
   "mimetype": "text/x-python",
   "name": "python",
   "nbconvert_exporter": "python",
   "pygments_lexer": "ipython3",
   "version": "3.7.12"
  }
 },
 "nbformat": 4,
 "nbformat_minor": 4
}
